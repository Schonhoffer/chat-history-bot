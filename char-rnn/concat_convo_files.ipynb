{
 "cells": [
  {
   "cell_type": "code",
   "execution_count": 23,
   "metadata": {
    "collapsed": true
   },
   "outputs": [],
   "source": [
    "import os"
   ]
  },
  {
   "cell_type": "code",
   "execution_count": 24,
   "metadata": {
    "collapsed": true
   },
   "outputs": [],
   "source": [
    "input_path = \"/Users/natasha/Dropbox (MIT)/SideProjects/HangoutsCharRNN/HangoutsData/TextConversations/\""
   ]
  },
  {
   "cell_type": "code",
   "execution_count": 25,
   "metadata": {
    "collapsed": true
   },
   "outputs": [],
   "source": [
    "save_path = \"/Users/natasha/Dropbox (MIT)/SideProjects/HangoutsCharRNN/HangoutsData/all_convos.txt\""
   ]
  },
  {
   "cell_type": "code",
   "execution_count": 29,
   "metadata": {
    "collapsed": false
   },
   "outputs": [
    {
     "name": "stdout",
     "output_type": "stream",
     "text": [
      "Found 9 lines in file _15713279167__16176829896.txt\n",
      "Found 4 lines in file _16176829896__18576002306.txt\n",
      "Found 690 lines in file Akane_Sano.txt\n",
      "Found 6421 lines in file allen.kelsey.r_gmail.com.txt\n",
      "Found 13 lines in file Andrea_Chan.txt\n",
      "Found 138490 lines in file Andrew_Schonhoffer.txt\n",
      "Found 119 lines in file Andrew_Schonhoffer_Bianca_Datta_Juliana_Cherston.txt\n",
      "Found 357 lines in file Andrew_Schonhoffer_Chris_Paisley.txt\n",
      "Found 223 lines in file Andrew_Schonhoffer_Juliana_Cherston.txt\n",
      "Found 125 lines in file Anna_Huang.txt\n",
      "Found 184 lines in file Anna_Wynveen.txt\n",
      "Found 251 lines in file anupam_srivastava.txt\n",
      "Found 24 lines in file Arni_Mar_Thrastarson.txt\n",
      "Found 284 lines in file Asaf_Azaria.txt\n",
      "Found 191 lines in file Asma_Ghandeharioun.txt\n",
      "Found 103 lines in file Asma_Ghandeharioun_Akane_Sano.txt\n",
      "Found 6499 lines in file Bianca_Datta.txt\n",
      "Found 325 lines in file Bianca_Datta_Juliana_Cherston.txt\n",
      "Found 385 lines in file Charlie_Welch.txt\n",
      "Found 76 lines in file Christopher_Head.txt\n",
      "Found 75 lines in file Cinjon_Resnick.txt\n",
      "Found 31 lines in file Colleen_McCarthy.txt\n",
      "Found 66 lines in file corey.d.baker_gmail.com.txt\n",
      "Found 3700 lines in file Cristian_Jara_Figueroa.txt\n",
      "Found 59 lines in file Cristian_Jara_Figueroa_Andrew_Schonhoffer_Chris_Paisley.txt\n",
      "Found 230 lines in file d_wk.txt\n",
      "Found 303 lines in file Dan_Man_.txt\n",
      "Found 31 lines in file Daniel_L_pez_Mart_nez.txt\n",
      "Found 79 lines in file David_Gerhard.txt\n",
      "Found 22 lines in file Dhaval_Adjodah.txt\n",
      "Found 1 lines in file Eden_Rohatensky.txt\n",
      "Found 361 lines in file Ehi_Nosakhare.txt\n",
      "Found 29 lines in file Gabriel_Lightly.txt\n",
      "Found 193 lines in file Gavin_Lund.txt\n",
      "Found 720 lines in file Gavin_Lund_Andrew_Schonhoffer_Juliana_Cherston.txt\n",
      "Found 11 lines in file Gavin_Lund_Juliana_Cherston.txt\n",
      "Found 13 lines in file Harshit_Agrawal_Viirj_Kan_Juliana_Cherston_Juliana_Nazar__Bianca_Datta_Jonathan_Bobrow_Keira_Horowitz.txt\n",
      "Found 1860 lines in file Helen_Halbert.txt\n",
      "Found 89 lines in file Helen_Halbert_Andrew_Schonhoffer_Ronen_Shayovitz.txt\n",
      "Found 64 lines in file Jeffrey_Cliff.txt\n",
      "Found 1710 lines in file Jeremy_Lane.txt\n",
      "Found 65352 lines in file Juliana_Cherston.txt\n",
      "Found 77 lines in file Juliana_Cherston_Andrew_Schonhoffer_Chris_Paisley.txt\n",
      "Found 10 lines in file Juliana_Nazar_.txt\n",
      "Found 57 lines in file Kailun_Zhang.txt\n",
      "Found 10 lines in file Kelsey_Allen_Sara_Taylor.txt\n",
      "Found 13 lines in file Kevin_Jaques.txt\n",
      "Found 5 lines in file Kevin_Jaques_Paula_Sostorics_Sam_Jaques.txt\n",
      "Found 2 lines in file Kristian_Miller.txt\n",
      "Found 5196 lines in file Kyle_Kastner.txt\n",
      "Found 12 lines in file Kyle_Kastner_Laurent_Dinh.txt\n",
      "Found 258 lines in file Laurent_Dinh.txt\n",
      "Found 32 lines in file Mark_Deutscher.txt\n",
      "Found 493 lines in file Mark_Spear.txt\n",
      "Found 1 lines in file Martin_Saveski.txt\n",
      "Found 8 lines in file Michael_Phan-Ba.txt\n",
      "Found 73 lines in file Nathan_M.txt\n",
      "Found 4263 lines in file Niaja_Farve.txt\n",
      "Found 26 lines in file Niko_Banic_Andrew_Schonhoffer.txt\n",
      "Found 1 lines in file Nolan_Flegel.txt\n",
      "Found 47 lines in file Orkhan_Muradov.txt\n",
      "Found 1106 lines in file paisley.chris_gmail.com.txt\n",
      "Found 2 lines in file Pat_Matheson.txt\n",
      "Found 12545 lines in file Peter_Beshai.txt\n",
      "Found 78 lines in file Peter_Beshai_Andrew_Schonhoffer.txt\n",
      "Found 1592 lines in file ponsard.antoine_gmail.com.txt\n",
      "Found 1 lines in file Rachel_Popa.txt\n",
      "Found 112 lines in file Rebecca_McKnight.txt\n",
      "Found 268 lines in file Rebecca_Nickerson.txt\n",
      "Found 672 lines in file Rebecca_Nickerson_Colleen_McCarthy.txt\n",
      "Found 12 lines in file Rebecca_Nickerson_Colleen_McCarthy_Laurent_Dinh.txt\n",
      "Found 2208 lines in file Sam_Jaques.txt\n",
      "Found 4 lines in file Sara_Bainbridge.txt\n",
      "Found 27440 lines in file Sara_Taylor.txt\n",
      "Found 38 lines in file Sara_Taylor_Akane_Sano.txt\n",
      "Found 58 lines in file Sara_Taylor_Ehi_Nosakhare.txt\n",
      "Found 699 lines in file Scott_Greenwald.txt\n",
      "Found 807 lines in file Shane_Gu.txt\n",
      "Found 17 lines in file Shashwat_Pulak_Vinayak_Mathur_Roopam_Sharma_Hotaek_Hong_Iris_Elliott_James_Donovan_Miguel_Salazar_Pooja_G_Medha_Viswanath.txt\n",
      "Found 36 lines in file Siddhesh_Suthar_Harshit_Agrawal_Viirj_Kan_Ayush_Sharma_Srishti_Sethi_Manjul_Manivesh_James_Donovan_Sasan_Bahrami_Brandon_Ruffridge_Siddhant_Shrivastava_AKSHAT_JAIN_joe_mcgonegal_ma_ra_sala_Mithilesh_Shah.txt\n",
      "Found 228 lines in file Tim_Cooijmans.txt\n",
      "Found 21 lines in file Tim_Cooijmans_Anna_Huang.txt\n",
      "Found 405 lines in file Travis_Rich.txt\n",
      "Found 6 lines in file Trevor_Holloway.txt\n",
      "Found 4 lines in file unknown_103154682100768034112.txt\n",
      "Found 137 lines in file unknown_103271681940125220510.txt\n",
      "Found 4 lines in file unknown_106470867155917832784.txt\n",
      "Found 20687 lines in file unknown_113530826678117109859.txt\n",
      "Found 12 lines in file unknown_115972102230286430157.txt\n",
      "Found 71 lines in file unknown_117426961035884503527_unknown_113825624613948954239_unknown_114748729371233937791_unknown_113301416292219215519_unknown_107578368060048337038_unknown_114134834346472219368_unknown_113533168084152678968_unknown_108262133155810637679_unknown_10.txt\n",
      "Found 815 lines in file Victoria_Xia.txt\n",
      "Found 52 lines in file Viirj_Kan.txt\n",
      "Found 182 lines in file Weixuan_Chen.txt\n",
      "Saved a total of 310675 to file /Users/natasha/Dropbox (MIT)/SideProjects/HangoutsCharRNN/HangoutsData/all_convos.txt\n"
     ]
    }
   ],
   "source": [
    "sum_lines = 0\n",
    "out = open(save_path, 'w')\n",
    "for filename in os.listdir(input_path):\n",
    "    if '.txt' in filename:\n",
    "        in_f = open(input_path + filename, 'r')\n",
    "        lines = in_f.readlines()\n",
    "        sum_lines += len(lines)\n",
    "        print \"Found\", len(lines), \"lines in file\", filename\n",
    "        for line in lines:\n",
    "            out.write(line)\n",
    "out.close()\n",
    "print \"Saved a total of\", sum_lines, \"to file\", save_path"
   ]
  },
  {
   "cell_type": "code",
   "execution_count": 22,
   "metadata": {
    "collapsed": true
   },
   "outputs": [],
   "source": []
  },
  {
   "cell_type": "code",
   "execution_count": null,
   "metadata": {
    "collapsed": true
   },
   "outputs": [],
   "source": []
  }
 ],
 "metadata": {
  "kernelspec": {
   "display_name": "Python 2",
   "language": "python",
   "name": "python2"
  },
  "language_info": {
   "codemirror_mode": {
    "name": "ipython",
    "version": 2
   },
   "file_extension": ".py",
   "mimetype": "text/x-python",
   "name": "python",
   "nbconvert_exporter": "python",
   "pygments_lexer": "ipython2",
   "version": "2.7.10"
  }
 },
 "nbformat": 4,
 "nbformat_minor": 0
}
